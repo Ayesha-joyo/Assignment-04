{
  "nbformat": 4,
  "nbformat_minor": 0,
  "metadata": {
    "colab": {
      "provenance": [],
      "authorship_tag": "ABX9TyOj1E30X9khyrfkUP96j1lL",
      "include_colab_link": true
    },
    "kernelspec": {
      "name": "python3",
      "display_name": "Python 3"
    },
    "language_info": {
      "name": "python"
    }
  },
  "cells": [
    {
      "cell_type": "markdown",
      "metadata": {
        "id": "view-in-github",
        "colab_type": "text"
      },
      "source": [
        "<a href=\"https://colab.research.google.com/github/Ayesha-joyo/Assignment-04/blob/main/03_if_statement.ipynb\" target=\"_parent\"><img src=\"https://colab.research.google.com/assets/colab-badge.svg\" alt=\"Open In Colab\"/></a>"
      ]
    },
    {
      "cell_type": "code",
      "execution_count": 1,
      "metadata": {
        "colab": {
          "base_uri": "https://localhost:8080/"
        },
        "id": "Y8K-_ac2P0ia",
        "outputId": "bce33006-87af-49ab-8c50-188d4f876a81"
      },
      "outputs": [
        {
          "output_type": "stream",
          "name": "stdout",
          "text": [
            "0 2 4 6 8 10 12 14 16 18 20 22 24 26 28 30 32 34 36 38 "
          ]
        }
      ],
      "source": [
        "# Loop to print the first 20 even numbers\n",
        "for i in range(20):\n",
        "    print(2 * i, end=\" \" )  # Multiply i by 2 to get the even numbers\n"
      ]
    },
    {
      "cell_type": "code",
      "source": [
        "# Ask the user for their age\n",
        "age = int(input(\"How old are you? \"))\n",
        "\n",
        "# Voting age thresholds for each country\n",
        "voting_age_peturksbouipo = 16\n",
        "voting_age_stanlau = 25\n",
        "voting_age_mayengua = 48\n",
        "\n",
        "# Check voting eligibility for Peturksbouipo\n",
        "if age >= voting_age_peturksbouipo:\n",
        "    print(f\"You can vote in Peturksbouipo where the voting age is {voting_age_peturksbouipo}.\")\n",
        "else:\n",
        "    print(f\"You cannot vote in Peturksbouipo where the voting age is {voting_age_peturksbouipo}.\")\n",
        "\n",
        "# Check voting eligibility for Stanlau\n",
        "if age >= voting_age_stanlau:\n",
        "    print(f\"You can vote in Stanlau where the voting age is {voting_age_stanlau}.\")\n",
        "else:\n",
        "    print(f\"You cannot vote in Stanlau where the voting age is {voting_age_stanlau}.\")\n",
        "\n",
        "# Check voting eligibility for Mayengua\n",
        "if age >= voting_age_mayengua:\n",
        "    print(f\"You can vote in Mayengua where the voting age is {voting_age_mayengua}.\")\n",
        "else:\n",
        "    print(f\"You cannot vote in Mayengua where the voting age is {voting_age_mayengua}.\")\n"
      ],
      "metadata": {
        "colab": {
          "base_uri": "https://localhost:8080/"
        },
        "id": "Ntc1BSuIQTfQ",
        "outputId": "3ccb6d25-c850-4793-a8fa-fec50eef15ee"
      },
      "execution_count": 2,
      "outputs": [
        {
          "output_type": "stream",
          "name": "stdout",
          "text": [
            "How old are you? 17\n",
            "You can vote in Peturksbouipo where the voting age is 16.\n",
            "You cannot vote in Stanlau where the voting age is 25.\n",
            "You cannot vote in Mayengua where the voting age is 48.\n"
          ]
        }
      ]
    },
    {
      "cell_type": "code",
      "source": [
        "# Ask the user for the year\n",
        "year = int(input(\"Enter a year: \"))\n",
        "\n",
        "# Check if the year is a leap year\n",
        "if (year % 4 == 0 and year % 100 != 0) or (year % 400 == 0):\n",
        "    print(\"That's a leap year!\")\n",
        "else:\n",
        "    print(\"That's not a leap year.\")\n"
      ],
      "metadata": {
        "colab": {
          "base_uri": "https://localhost:8080/"
        },
        "id": "nbtVTy4rQiK5",
        "outputId": "96781fec-c224-4d46-ec5d-c07cb4ed1550"
      },
      "execution_count": 3,
      "outputs": [
        {
          "output_type": "stream",
          "name": "stdout",
          "text": [
            "Enter a year: 2007\n",
            "That's not a leap year.\n"
          ]
        }
      ]
    },
    {
      "cell_type": "code",
      "source": [
        "# Minimum height requirement\n",
        "MIN_HEIGHT = 50\n",
        "\n",
        "# Function to check if the user is tall enough\n",
        "def check_height():\n",
        "    # Continuously ask the user for their height\n",
        "    while True:\n",
        "        # Ask the user for their height\n",
        "        height = input(\"How tall are you? \")\n",
        "\n",
        "        # If the input is empty, stop the loop\n",
        "        if height == \"\":\n",
        "            print(\"Goodbye!\")\n",
        "            break\n",
        "\n",
        "        # Convert the height to an integer\n",
        "        try:\n",
        "            height = int(height)\n",
        "\n",
        "            # Check if the user is tall enough\n",
        "            if height >= MIN_HEIGHT:\n",
        "                print(\"You're tall enough to ride!\")\n",
        "            else:\n",
        "                print(\"You're not tall enough to ride, but maybe next year!\")\n",
        "\n",
        "        # Handle case where input is not a valid number\n",
        "        except ValueError:\n",
        "            print(\"Please enter a valid number for your height.\")\n",
        "\n",
        "# Run the function\n",
        "check_height()\n"
      ],
      "metadata": {
        "colab": {
          "base_uri": "https://localhost:8080/"
        },
        "id": "3h55HrE1Qttf",
        "outputId": "f9d37208-99e7-4802-aa6b-390a301c76e6"
      },
      "execution_count": 4,
      "outputs": [
        {
          "output_type": "stream",
          "name": "stdout",
          "text": [
            "How tall are you? 7\n",
            "You're not tall enough to ride, but maybe next year!\n",
            "How tall are you? 4\n",
            "You're not tall enough to ride, but maybe next year!\n",
            "How tall are you? 9\n",
            "You're not tall enough to ride, but maybe next year!\n",
            "How tall are you? \n",
            "Goodbye!\n"
          ]
        }
      ]
    },
    {
      "cell_type": "code",
      "source": [
        "import random\n",
        "\n",
        "# Generate and print 10 random numbers between 1 and 100\n",
        "for _ in range(10):\n",
        "    print(random.randint(1, 100), end=\" \")\n"
      ],
      "metadata": {
        "colab": {
          "base_uri": "https://localhost:8080/"
        },
        "id": "ul-X1zF6Q513",
        "outputId": "a7521140-7f83-4f5b-e1db-42eb1da9bcc6"
      },
      "execution_count": 5,
      "outputs": [
        {
          "output_type": "stream",
          "name": "stdout",
          "text": [
            "21 64 69 55 82 85 87 85 29 31 "
          ]
        }
      ]
    }
  ]
}