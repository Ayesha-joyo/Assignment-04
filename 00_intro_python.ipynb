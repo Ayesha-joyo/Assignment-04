{
  "nbformat": 4,
  "nbformat_minor": 0,
  "metadata": {
    "colab": {
      "provenance": [],
      "authorship_tag": "ABX9TyMAab9OvFrMhatTAkL7bZ8k",
      "include_colab_link": true
    },
    "kernelspec": {
      "name": "python3",
      "display_name": "Python 3"
    },
    "language_info": {
      "name": "python"
    }
  },
  "cells": [
    {
      "cell_type": "markdown",
      "metadata": {
        "id": "view-in-github",
        "colab_type": "text"
      },
      "source": [
        "<a href=\"https://colab.research.google.com/github/Ayesha-joyo/Assignment-04/blob/main/00_intro_python.ipynb\" target=\"_parent\"><img src=\"https://colab.research.google.com/assets/colab-badge.svg\" alt=\"Open In Colab\"/></a>"
      ]
    },
    {
      "cell_type": "code",
      "execution_count": null,
      "metadata": {
        "id": "WAWLylb6SuNW"
      },
      "outputs": [],
      "source": []
    },
    {
      "cell_type": "code",
      "source": [
        "def main():\n",
        "    # Prompt the user to enter the first number\n",
        "    num1 = int(input(\"Enter the first number: \"))\n",
        "\n",
        "    # Prompt the user to enter the second number\n",
        "    num2 = int(input(\"Enter the second number: \"))\n",
        "\n",
        "    # Calculate the sum of the two numbers\n",
        "    total_sum = num1 + num2\n",
        "\n",
        "    # Print the total sum with an appropriate message\n",
        "    print(f\"The total sum of {num1} and {num2} is: {total_sum}\")\n",
        "\n",
        "# Call the main function to run the program\n",
        "if __name__ == \"__main__\":\n",
        "    main()\n"
      ],
      "metadata": {
        "colab": {
          "base_uri": "https://localhost:8080/"
        },
        "id": "BufTllMkTPtQ",
        "outputId": "dd909865-410b-4160-bfdf-b3ae2d79d23e"
      },
      "execution_count": 1,
      "outputs": [
        {
          "output_type": "stream",
          "name": "stdout",
          "text": [
            "Enter the first number: 67\n",
            "Enter the second number: 90\n",
            "The total sum of 67 and 90 is: 157\n"
          ]
        }
      ]
    },
    {
      "cell_type": "code",
      "source": [
        "def main():\n",
        "    # Ask the user for their favorite animal\n",
        "    favorite_animal = input(\"What's your favorite animal? \")\n",
        "\n",
        "    # Respond with a message including the user's favorite animal\n",
        "    print(f\"My favorite animal is also {favorite_animal}!\")\n",
        "\n",
        "# Call the main function to run the program\n",
        "if __name__ == \"__main__\":\n",
        "    main()\n"
      ],
      "metadata": {
        "colab": {
          "base_uri": "https://localhost:8080/"
        },
        "id": "OYJHdPQUT5AM",
        "outputId": "bfd9cf50-b50c-4732-81a1-6effe6c8beda"
      },
      "execution_count": 2,
      "outputs": [
        {
          "output_type": "stream",
          "name": "stdout",
          "text": [
            "What's your favorite animal? cat\n",
            "My favorite animal is also cat!\n"
          ]
        }
      ]
    },
    {
      "cell_type": "code",
      "source": [
        "def main():\n",
        "    # Ask the user for the temperature in Fahrenheit\n",
        "    fahrenheit = float(input(\"Enter temperature in Fahrenheit: \"))\n",
        "\n",
        "    # Convert Fahrenheit to Celsius using the formula\n",
        "    celsius = (fahrenheit - 32) * 5.0 / 9.0\n",
        "\n",
        "    # Output the converted temperature in Celsius\n",
        "    print(f\"Temperature: {fahrenheit}F = {celsius}C\")\n",
        "\n",
        "# Call the main function to run the program\n",
        "if __name__ == \"__main__\":\n",
        "    main()\n",
        "\n"
      ],
      "metadata": {
        "colab": {
          "base_uri": "https://localhost:8080/"
        },
        "id": "FvUx0MVxUMph",
        "outputId": "bca195cb-c153-4dea-c0db-4fbfa5930776"
      },
      "execution_count": 3,
      "outputs": [
        {
          "output_type": "stream",
          "name": "stdout",
          "text": [
            "Enter temperature in Fahrenheit: 56\n",
            "Temperature: 56.0F = 13.333333333333334C\n"
          ]
        }
      ]
    },
    {
      "cell_type": "code",
      "source": [
        "def main():\n",
        "    # Assign Anton's age\n",
        "    anton_age = 21\n",
        "\n",
        "    # Assign the other ages based on the relationships given\n",
        "    beth_age = anton_age + 6  # Beth is 6 years older than Anton\n",
        "    chen_age = beth_age + 20  # Chen is 20 years older than Beth\n",
        "    drew_age = chen_age + anton_age  # Drew is as old as Chen's age plus Anton's age\n",
        "    ethan_age = chen_age  # Ethan is the same age as Chen\n",
        "\n",
        "    # Print each person's name and age\n",
        "    print(f\"Anton is {anton_age} years old.\")\n",
        "    print(f\"Beth is {beth_age} years old.\")\n",
        "    print(f\"Chen is {chen_age} years old.\")\n",
        "    print(f\"Drew is {drew_age} years old.\")\n",
        "    print(f\"Ethan is {ethan_age} years old.\")\n",
        "\n",
        "# Call the main function to run the program\n",
        "if __name__ == \"__main__\":\n",
        "    main()\n"
      ],
      "metadata": {
        "colab": {
          "base_uri": "https://localhost:8080/"
        },
        "id": "u6vL8VtbUc0W",
        "outputId": "17e90cff-884f-4dd1-9138-2c851f5fc141"
      },
      "execution_count": 4,
      "outputs": [
        {
          "output_type": "stream",
          "name": "stdout",
          "text": [
            "Anton is 21 years old.\n",
            "Beth is 27 years old.\n",
            "Chen is 47 years old.\n",
            "Drew is 68 years old.\n",
            "Ethan is 47 years old.\n"
          ]
        }
      ]
    },
    {
      "cell_type": "code",
      "source": [
        "def main():\n",
        "    # Prompt the user for the lengths of each side\n",
        "    side1 = float(input(\"What is the length of side 1? \"))\n",
        "    side2 = float(input(\"What is the length of side 2? \"))\n",
        "    side3 = float(input(\"What is the length of side 3? \"))\n",
        "\n",
        "    # Calculate the perimeter of the triangle\n",
        "    perimeter = side1 + side2 + side3\n",
        "\n",
        "    # Print the perimeter of the triangle\n",
        "    print(f\"The perimeter of the triangle is {perimeter}\")\n",
        "\n",
        "# Call the main function to run the program\n",
        "if __name__ == \"__main__\":\n",
        "    main()\n"
      ],
      "metadata": {
        "colab": {
          "base_uri": "https://localhost:8080/"
        },
        "id": "tYHphVL1Uu4v",
        "outputId": "c95927e5-b110-4491-a767-444978fac456"
      },
      "execution_count": 5,
      "outputs": [
        {
          "output_type": "stream",
          "name": "stdout",
          "text": [
            "What is the length of side 1? 6\n",
            "What is the length of side 2? 3\n",
            "What is the length of side 3? 5\n",
            "The perimeter of the triangle is 14.0\n"
          ]
        }
      ]
    },
    {
      "cell_type": "code",
      "source": [
        "def main():\n",
        "    # Ask the user to input a number\n",
        "    number = float(input(\"Type a number to see its square: \"))\n",
        "\n",
        "    # Calculate the square of the number\n",
        "    square = number ** 2\n",
        "\n",
        "    # Print the result\n",
        "    print(f\"{number} squared is {square}\")\n",
        "\n",
        "# Call the main function to run the program\n",
        "if __name__ == \"__main__\":\n",
        "    main()\n"
      ],
      "metadata": {
        "colab": {
          "base_uri": "https://localhost:8080/"
        },
        "id": "IiOd64Q3VDJZ",
        "outputId": "b74a9425-e7ea-44a1-bd2c-58cc5e9df7a3"
      },
      "execution_count": 6,
      "outputs": [
        {
          "output_type": "stream",
          "name": "stdout",
          "text": [
            "Type a number to see its square: 5\n",
            "5.0 squared is 25.0\n"
          ]
        }
      ]
    }
  ]
}