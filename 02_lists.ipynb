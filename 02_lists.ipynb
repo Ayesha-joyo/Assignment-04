{
  "nbformat": 4,
  "nbformat_minor": 0,
  "metadata": {
    "colab": {
      "provenance": [],
      "authorship_tag": "ABX9TyN7xLraP9qDlerDZF7HJuBx",
      "include_colab_link": true
    },
    "kernelspec": {
      "name": "python3",
      "display_name": "Python 3"
    },
    "language_info": {
      "name": "python"
    },
    "widgets": {
      "application/vnd.jupyter.widget-state+json": {
        "a636304dead54b718a743cc04d4c816d": {
          "model_module": "@jupyter-widgets/controls",
          "model_name": "VBoxModel",
          "model_module_version": "1.5.0",
          "state": {
            "_dom_classes": [
              "widget-interact"
            ],
            "_model_module": "@jupyter-widgets/controls",
            "_model_module_version": "1.5.0",
            "_model_name": "VBoxModel",
            "_view_count": null,
            "_view_module": "@jupyter-widgets/controls",
            "_view_module_version": "1.5.0",
            "_view_name": "VBoxView",
            "box_style": "",
            "children": [
              "IPY_MODEL_47bd2486df054c3bb7732061f4a6deba",
              "IPY_MODEL_94cb01f01d5f467bb5ac27badf4b690c",
              "IPY_MODEL_151c46a2f9f44a9f8940a877b96761ad"
            ],
            "layout": "IPY_MODEL_8258eca218b246c3b36822413fa50c2a"
          }
        },
        "47bd2486df054c3bb7732061f4a6deba": {
          "model_module": "@jupyter-widgets/controls",
          "model_name": "IntSliderModel",
          "model_module_version": "1.5.0",
          "state": {
            "_dom_classes": [],
            "_model_module": "@jupyter-widgets/controls",
            "_model_module_version": "1.5.0",
            "_model_name": "IntSliderModel",
            "_view_count": null,
            "_view_module": "@jupyter-widgets/controls",
            "_view_module_version": "1.5.0",
            "_view_name": "IntSliderView",
            "continuous_update": true,
            "description": "x",
            "description_tooltip": null,
            "disabled": false,
            "layout": "IPY_MODEL_985437df63d34238a77262a58c5d451a",
            "max": 9,
            "min": 0,
            "orientation": "horizontal",
            "readout": true,
            "readout_format": "d",
            "step": 1,
            "style": "IPY_MODEL_157e712cb82740978a5d93a0fa026c5f",
            "value": 4
          }
        },
        "94cb01f01d5f467bb5ac27badf4b690c": {
          "model_module": "@jupyter-widgets/controls",
          "model_name": "IntSliderModel",
          "model_module_version": "1.5.0",
          "state": {
            "_dom_classes": [],
            "_model_module": "@jupyter-widgets/controls",
            "_model_module_version": "1.5.0",
            "_model_name": "IntSliderModel",
            "_view_count": null,
            "_view_module": "@jupyter-widgets/controls",
            "_view_module_version": "1.5.0",
            "_view_name": "IntSliderView",
            "continuous_update": true,
            "description": "y",
            "description_tooltip": null,
            "disabled": false,
            "layout": "IPY_MODEL_5e799c35866f41c7b19018803051208c",
            "max": 9,
            "min": 0,
            "orientation": "horizontal",
            "readout": true,
            "readout_format": "d",
            "step": 1,
            "style": "IPY_MODEL_5492fbcde7bb4d1681bc2ab45dfd6b80",
            "value": 7
          }
        },
        "151c46a2f9f44a9f8940a877b96761ad": {
          "model_module": "@jupyter-widgets/output",
          "model_name": "OutputModel",
          "model_module_version": "1.0.0",
          "state": {
            "_dom_classes": [],
            "_model_module": "@jupyter-widgets/output",
            "_model_module_version": "1.0.0",
            "_model_name": "OutputModel",
            "_view_count": null,
            "_view_module": "@jupyter-widgets/output",
            "_view_module_version": "1.0.0",
            "_view_name": "OutputView",
            "layout": "IPY_MODEL_2fd16c0de8eb4e57a9de76d4eed834de",
            "msg_id": "",
            "outputs": [
              {
                "output_type": "display_data",
                "data": {
                  "text/plain": "<Figure size 600x600 with 1 Axes>",
                  "image/png": "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\n"
                },
                "metadata": {}
              }
            ]
          }
        },
        "8258eca218b246c3b36822413fa50c2a": {
          "model_module": "@jupyter-widgets/base",
          "model_name": "LayoutModel",
          "model_module_version": "1.2.0",
          "state": {
            "_model_module": "@jupyter-widgets/base",
            "_model_module_version": "1.2.0",
            "_model_name": "LayoutModel",
            "_view_count": null,
            "_view_module": "@jupyter-widgets/base",
            "_view_module_version": "1.2.0",
            "_view_name": "LayoutView",
            "align_content": null,
            "align_items": null,
            "align_self": null,
            "border": null,
            "bottom": null,
            "display": null,
            "flex": null,
            "flex_flow": null,
            "grid_area": null,
            "grid_auto_columns": null,
            "grid_auto_flow": null,
            "grid_auto_rows": null,
            "grid_column": null,
            "grid_gap": null,
            "grid_row": null,
            "grid_template_areas": null,
            "grid_template_columns": null,
            "grid_template_rows": null,
            "height": null,
            "justify_content": null,
            "justify_items": null,
            "left": null,
            "margin": null,
            "max_height": null,
            "max_width": null,
            "min_height": null,
            "min_width": null,
            "object_fit": null,
            "object_position": null,
            "order": null,
            "overflow": null,
            "overflow_x": null,
            "overflow_y": null,
            "padding": null,
            "right": null,
            "top": null,
            "visibility": null,
            "width": null
          }
        },
        "985437df63d34238a77262a58c5d451a": {
          "model_module": "@jupyter-widgets/base",
          "model_name": "LayoutModel",
          "model_module_version": "1.2.0",
          "state": {
            "_model_module": "@jupyter-widgets/base",
            "_model_module_version": "1.2.0",
            "_model_name": "LayoutModel",
            "_view_count": null,
            "_view_module": "@jupyter-widgets/base",
            "_view_module_version": "1.2.0",
            "_view_name": "LayoutView",
            "align_content": null,
            "align_items": null,
            "align_self": null,
            "border": null,
            "bottom": null,
            "display": null,
            "flex": null,
            "flex_flow": null,
            "grid_area": null,
            "grid_auto_columns": null,
            "grid_auto_flow": null,
            "grid_auto_rows": null,
            "grid_column": null,
            "grid_gap": null,
            "grid_row": null,
            "grid_template_areas": null,
            "grid_template_columns": null,
            "grid_template_rows": null,
            "height": null,
            "justify_content": null,
            "justify_items": null,
            "left": null,
            "margin": null,
            "max_height": null,
            "max_width": null,
            "min_height": null,
            "min_width": null,
            "object_fit": null,
            "object_position": null,
            "order": null,
            "overflow": null,
            "overflow_x": null,
            "overflow_y": null,
            "padding": null,
            "right": null,
            "top": null,
            "visibility": null,
            "width": null
          }
        },
        "157e712cb82740978a5d93a0fa026c5f": {
          "model_module": "@jupyter-widgets/controls",
          "model_name": "SliderStyleModel",
          "model_module_version": "1.5.0",
          "state": {
            "_model_module": "@jupyter-widgets/controls",
            "_model_module_version": "1.5.0",
            "_model_name": "SliderStyleModel",
            "_view_count": null,
            "_view_module": "@jupyter-widgets/base",
            "_view_module_version": "1.2.0",
            "_view_name": "StyleView",
            "description_width": "",
            "handle_color": null
          }
        },
        "5e799c35866f41c7b19018803051208c": {
          "model_module": "@jupyter-widgets/base",
          "model_name": "LayoutModel",
          "model_module_version": "1.2.0",
          "state": {
            "_model_module": "@jupyter-widgets/base",
            "_model_module_version": "1.2.0",
            "_model_name": "LayoutModel",
            "_view_count": null,
            "_view_module": "@jupyter-widgets/base",
            "_view_module_version": "1.2.0",
            "_view_name": "LayoutView",
            "align_content": null,
            "align_items": null,
            "align_self": null,
            "border": null,
            "bottom": null,
            "display": null,
            "flex": null,
            "flex_flow": null,
            "grid_area": null,
            "grid_auto_columns": null,
            "grid_auto_flow": null,
            "grid_auto_rows": null,
            "grid_column": null,
            "grid_gap": null,
            "grid_row": null,
            "grid_template_areas": null,
            "grid_template_columns": null,
            "grid_template_rows": null,
            "height": null,
            "justify_content": null,
            "justify_items": null,
            "left": null,
            "margin": null,
            "max_height": null,
            "max_width": null,
            "min_height": null,
            "min_width": null,
            "object_fit": null,
            "object_position": null,
            "order": null,
            "overflow": null,
            "overflow_x": null,
            "overflow_y": null,
            "padding": null,
            "right": null,
            "top": null,
            "visibility": null,
            "width": null
          }
        },
        "5492fbcde7bb4d1681bc2ab45dfd6b80": {
          "model_module": "@jupyter-widgets/controls",
          "model_name": "SliderStyleModel",
          "model_module_version": "1.5.0",
          "state": {
            "_model_module": "@jupyter-widgets/controls",
            "_model_module_version": "1.5.0",
            "_model_name": "SliderStyleModel",
            "_view_count": null,
            "_view_module": "@jupyter-widgets/base",
            "_view_module_version": "1.2.0",
            "_view_name": "StyleView",
            "description_width": "",
            "handle_color": null
          }
        },
        "2fd16c0de8eb4e57a9de76d4eed834de": {
          "model_module": "@jupyter-widgets/base",
          "model_name": "LayoutModel",
          "model_module_version": "1.2.0",
          "state": {
            "_model_module": "@jupyter-widgets/base",
            "_model_module_version": "1.2.0",
            "_model_name": "LayoutModel",
            "_view_count": null,
            "_view_module": "@jupyter-widgets/base",
            "_view_module_version": "1.2.0",
            "_view_name": "LayoutView",
            "align_content": null,
            "align_items": null,
            "align_self": null,
            "border": null,
            "bottom": null,
            "display": null,
            "flex": null,
            "flex_flow": null,
            "grid_area": null,
            "grid_auto_columns": null,
            "grid_auto_flow": null,
            "grid_auto_rows": null,
            "grid_column": null,
            "grid_gap": null,
            "grid_row": null,
            "grid_template_areas": null,
            "grid_template_columns": null,
            "grid_template_rows": null,
            "height": null,
            "justify_content": null,
            "justify_items": null,
            "left": null,
            "margin": null,
            "max_height": null,
            "max_width": null,
            "min_height": null,
            "min_width": null,
            "object_fit": null,
            "object_position": null,
            "order": null,
            "overflow": null,
            "overflow_x": null,
            "overflow_y": null,
            "padding": null,
            "right": null,
            "top": null,
            "visibility": null,
            "width": null
          }
        }
      }
    }
  },
  "cells": [
    {
      "cell_type": "markdown",
      "metadata": {
        "id": "view-in-github",
        "colab_type": "text"
      },
      "source": [
        "<a href=\"https://colab.research.google.com/github/Ayesha-joyo/Assignment-04/blob/main/02_lists.ipynb\" target=\"_parent\"><img src=\"https://colab.research.google.com/assets/colab-badge.svg\" alt=\"Open In Colab\"/></a>"
      ]
    },
    {
      "cell_type": "code",
      "execution_count": 1,
      "metadata": {
        "colab": {
          "base_uri": "https://localhost:8080/"
        },
        "id": "m2AB0yU9L1AG",
        "outputId": "15f079e5-860e-4b61-a624-6aec010e3424"
      },
      "outputs": [
        {
          "output_type": "stream",
          "name": "stdout",
          "text": [
            "15\n"
          ]
        }
      ],
      "source": [
        "def add_many_numbers(numbers) -> int:\n",
        "    \"\"\"\n",
        "    Takes in a list of numbers and returns the sum of those numbers.\n",
        "    \"\"\"\n",
        "    total_so_far: int = 0\n",
        "    for number in numbers:\n",
        "        total_so_far += number\n",
        "    return total_so_far\n",
        "\n",
        "def main():\n",
        "    numbers: list[int] = [1, 2, 3, 4, 5]  # Example list of numbers\n",
        "    sum_of_numbers: int = add_many_numbers(numbers)  # Find the sum of the list\n",
        "    print(sum_of_numbers)  # Print out the sum of the numbers\n",
        "\n",
        "if __name__ == '__main__':\n",
        "    main()\n"
      ]
    },
    {
      "cell_type": "code",
      "source": [
        "def double_numbers(numbers):\n",
        "    \"\"\"Doubles each element in the list.\"\"\"\n",
        "    for i in range(len(numbers)):\n",
        "        numbers[i] *= 2  # Double each number in the list\n",
        "    return numbers\n",
        "\n",
        "def main():\n",
        "    numbers = [1, 2, 3, 4]  # Initial list\n",
        "    doubled_numbers = double_numbers(numbers)  # Call function to double the numbers\n",
        "    print(doubled_numbers)  # Print the modified list\n",
        "\n",
        "if __name__ == '__main__':\n",
        "    main()\n"
      ],
      "metadata": {
        "colab": {
          "base_uri": "https://localhost:8080/"
        },
        "id": "BLF67t0jNt9e",
        "outputId": "35e3c1b9-c1a3-4350-db53-528bd7fd77b9"
      },
      "execution_count": null,
      "outputs": [
        {
          "output_type": "stream",
          "name": "stdout",
          "text": [
            "[2, 4, 6, 8]\n"
          ]
        }
      ]
    },
    {
      "cell_type": "code",
      "source": [
        "import numpy as np\n",
        "import matplotlib.pyplot as plt\n",
        "import ipywidgets as widgets\n",
        "from ipywidgets import interact\n",
        "\n",
        "# Create a grid of cells (blue background for 'drawn' cells)\n",
        "grid_size = 10  # 10x10 grid\n",
        "cell_size = 1   # Each cell is 1x1 in terms of grid\n",
        "\n",
        "# Create a grid of 'blue' cells\n",
        "grid = np.ones((grid_size, grid_size))  # 1 represents a 'drawn' blue cell\n",
        "\n",
        "# Function to plot the grid and update it\n",
        "def plot_grid(erase_row=None, erase_col=None):\n",
        "    fig, ax = plt.subplots(figsize=(6, 6))\n",
        "\n",
        "    # Update the grid if erase coordinates are provided\n",
        "    if erase_row is not None and erase_col is not None:\n",
        "        grid[erase_row, erase_col] = 0  # Set the cell to 'white' (erased)\n",
        "\n",
        "    # Plot the grid\n",
        "    ax.imshow(grid, cmap='Blues', interpolation='nearest')\n",
        "\n",
        "    # Remove the axis labels\n",
        "    ax.set_xticks(np.arange(-0.5, grid_size, 1), minor=True)\n",
        "    ax.set_yticks(np.arange(-0.5, grid_size, 1), minor=True)\n",
        "    ax.grid(which=\"minor\", color=\"black\", linestyle='-', linewidth=2)\n",
        "    ax.set_xticks([])\n",
        "    ax.set_yticks([])\n",
        "\n",
        "    plt.show()\n",
        "\n",
        "# Function to interact with the grid\n",
        "def on_click(x, y):\n",
        "    # Use the clicked cell coordinates to update the grid\n",
        "    plot_grid(erase_row=int(y), erase_col=int(x))\n",
        "\n",
        "# Create interactive widget for eraser tool\n",
        "interact(on_click, x=widgets.IntSlider(min=0, max=grid_size-1, step=1, value=0),\n",
        "                 y=widgets.IntSlider(min=0, max=grid_size-1, step=1, value=0));\n"
      ],
      "metadata": {
        "colab": {
          "base_uri": "https://localhost:8080/",
          "height": 565,
          "referenced_widgets": [
            "a636304dead54b718a743cc04d4c816d",
            "47bd2486df054c3bb7732061f4a6deba",
            "94cb01f01d5f467bb5ac27badf4b690c",
            "151c46a2f9f44a9f8940a877b96761ad",
            "8258eca218b246c3b36822413fa50c2a",
            "985437df63d34238a77262a58c5d451a",
            "157e712cb82740978a5d93a0fa026c5f",
            "5e799c35866f41c7b19018803051208c",
            "5492fbcde7bb4d1681bc2ab45dfd6b80",
            "2fd16c0de8eb4e57a9de76d4eed834de"
          ]
        },
        "id": "YISReov3Mwmb",
        "outputId": "92e35b24-775c-4cc3-9837-adedaf77306b"
      },
      "execution_count": 6,
      "outputs": [
        {
          "output_type": "display_data",
          "data": {
            "text/plain": [
              "interactive(children=(IntSlider(value=0, description='x', max=9), IntSlider(value=0, description='y', max=9), …"
            ],
            "application/vnd.jupyter.widget-view+json": {
              "version_major": 2,
              "version_minor": 0,
              "model_id": "a636304dead54b718a743cc04d4c816d"
            }
          },
          "metadata": {}
        }
      ]
    },
    {
      "cell_type": "code",
      "source": [
        "# Function to add three copies of the data to the list\n",
        "def add_three_copies(lst, data):\n",
        "    # Add three copies of data to the list\n",
        "    lst.append(data)\n",
        "    lst.append(data)\n",
        "    lst.append(data)\n",
        "\n",
        "# Main program\n",
        "def main():\n",
        "    message = input(\"Enter a message to copy: \")  # User input for the message\n",
        "    my_list = []  # Initialize an empty list\n",
        "\n",
        "    print(\"List before:\", my_list)  # Print the list before modification\n",
        "\n",
        "    # Call the function to add three copies of the message to the list\n",
        "    add_three_copies(my_list, message)\n",
        "\n",
        "    # Print the list after modification\n",
        "    print(\"List after:\", my_list)\n",
        "\n",
        "# Run the program\n",
        "if __name__ == \"__main__\":\n",
        "    main()\n"
      ],
      "metadata": {
        "colab": {
          "base_uri": "https://localhost:8080/"
        },
        "id": "1vsDZiUmN_eS",
        "outputId": "396f37e9-cef7-4c6a-a60b-5a342a91c197"
      },
      "execution_count": 7,
      "outputs": [
        {
          "output_type": "stream",
          "name": "stdout",
          "text": [
            "Enter a message to copy: hello everyone\n",
            "List before: []\n",
            "List after: ['hello everyone', 'hello everyone', 'hello everyone']\n"
          ]
        }
      ]
    },
    {
      "cell_type": "code",
      "source": [
        "# Function to print the first element in the list\n",
        "def get_first_element(lst):\n",
        "    # Print the first element in the list\n",
        "    print(lst[0])\n",
        "\n",
        "# Main program\n",
        "def main():\n",
        "    # Prompt user for the number of elements in the list\n",
        "    n = int(input(\"Enter the number of elements in the list: \"))\n",
        "\n",
        "    # Initialize an empty list\n",
        "    my_list = []\n",
        "\n",
        "    # Get elements from the user and add them to the list\n",
        "    for i in range(n):\n",
        "        element = input(f\"Enter element {i+1}: \")\n",
        "        my_list.append(element)  # Add the element to the list\n",
        "\n",
        "    # Call the function to print the first element\n",
        "    get_first_element(my_list)\n",
        "\n",
        "# Run the program\n",
        "if __name__ == \"__main__\":\n",
        "    main()\n"
      ],
      "metadata": {
        "colab": {
          "base_uri": "https://localhost:8080/"
        },
        "id": "n-FKXbVIOOEF",
        "outputId": "75069f79-ccd8-4217-dcf8-1d19cd2baaa4"
      },
      "execution_count": 8,
      "outputs": [
        {
          "output_type": "stream",
          "name": "stdout",
          "text": [
            "Enter the number of elements in the list: 6\n",
            "Enter element 1: milk\n",
            "Enter element 2: water\n",
            "Enter element 3: biscuit\n",
            "Enter element 4: snacks\n",
            "Enter element 5: rice\n",
            "Enter element 6: wheat\n",
            "milk\n"
          ]
        }
      ]
    },
    {
      "cell_type": "code",
      "source": [
        "# Function to print the last element in the list\n",
        "def get_last_element(lst):\n",
        "    # Print the last element in the list\n",
        "    print(lst[-1])\n",
        "\n",
        "# Main program\n",
        "def main():\n",
        "    # Prompt user for the number of elements in the list\n",
        "    n = int(input(\"Enter the number of elements in the list: \"))\n",
        "\n",
        "    # Initialize an empty list\n",
        "    my_list = []\n",
        "\n",
        "    # Get elements from the user and add them to the list\n",
        "    for i in range(n):\n",
        "        element = input(f\"Enter element {i+1}: \")\n",
        "        my_list.append(element)  # Add the element to the list\n",
        "\n",
        "    # Call the function to print the last element\n",
        "    get_last_element(my_list)\n",
        "\n",
        "# Run the program\n",
        "if __name__ == \"__main__\":\n",
        "    main()\n"
      ],
      "metadata": {
        "colab": {
          "base_uri": "https://localhost:8080/"
        },
        "id": "diWnX8_AOgIq",
        "outputId": "44426cbd-bea2-4cd8-9406-03ba8ebb04cc"
      },
      "execution_count": 9,
      "outputs": [
        {
          "output_type": "stream",
          "name": "stdout",
          "text": [
            "Enter the number of elements in the list: 3\n",
            "Enter element 1: snacks\n",
            "Enter element 2: colddrink\n",
            "Enter element 3: sauce\n",
            "sauce\n"
          ]
        }
      ]
    },
    {
      "cell_type": "code",
      "source": [
        "# Initialize an empty list\n",
        "user_list = []\n",
        "\n",
        "# Continuously ask the user to enter values\n",
        "while True:\n",
        "    value = input(\"Enter a value: \")\n",
        "\n",
        "    # If the input is empty, break out of the loop\n",
        "    if value == \"\":\n",
        "        break\n",
        "\n",
        "    # Add the input value to the list\n",
        "    user_list.append(value)\n",
        "\n",
        "# Print the list once the user presses Enter without typing anything\n",
        "print(\"Here's the list:\", user_list)\n"
      ],
      "metadata": {
        "colab": {
          "base_uri": "https://localhost:8080/"
        },
        "id": "h5bqVffdOp1j",
        "outputId": "12a0b805-9a28-418c-f301-5bd2da0cdbda"
      },
      "execution_count": 10,
      "outputs": [
        {
          "output_type": "stream",
          "name": "stdout",
          "text": [
            "Enter a value: snacks\n",
            "Enter a value: 2\n",
            "Enter a value: 4\n",
            "Enter a value: colddrink\n",
            "Enter a value: milk\n",
            "Enter a value: honey\n",
            "Enter a value: glass\n",
            "Enter a value: \n",
            "Here's the list: ['snacks', '2', '4', 'colddrink', 'milk', 'honey', 'glass']\n"
          ]
        }
      ]
    },
    {
      "cell_type": "code",
      "source": [
        "# Define the constant MAX_LENGTH\n",
        "MAX_LENGTH = 3\n",
        "\n",
        "# Function to shorten the list to MAX_LENGTH\n",
        "def shorten(lst):\n",
        "    # Keep removing elements from the end until the list is at MAX_LENGTH or shorter\n",
        "    while len(lst) > MAX_LENGTH:\n",
        "        removed_item = lst.pop()  # Remove the last item\n",
        "        print(removed_item)  # Print the removed item\n",
        "\n",
        "# Main function\n",
        "def main():\n",
        "    # Example list to test the function\n",
        "    lst = input(\"Enter a list of values separated by spaces: \").split()\n",
        "\n",
        "    # Call the shorten function\n",
        "    shorten(lst)\n",
        "\n",
        "# Run the program\n",
        "if __name__ == \"__main__\":\n",
        "    main()\n"
      ],
      "metadata": {
        "colab": {
          "base_uri": "https://localhost:8080/"
        },
        "id": "ebJW-bHaPHdG",
        "outputId": "4d3a7f45-5c39-4d17-992b-7c918093567b"
      },
      "execution_count": 11,
      "outputs": [
        {
          "name": "stdout",
          "output_type": "stream",
          "text": [
            "Enter a list of values separated by spaces: sauce milk honey\n"
          ]
        }
      ]
    }
  ]
}