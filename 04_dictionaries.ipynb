{
  "nbformat": 4,
  "nbformat_minor": 0,
  "metadata": {
    "colab": {
      "provenance": [],
      "authorship_tag": "ABX9TyNv4R3Hz8t7miVJycpvHITE",
      "include_colab_link": true
    },
    "kernelspec": {
      "name": "python3",
      "display_name": "Python 3"
    },
    "language_info": {
      "name": "python"
    }
  },
  "cells": [
    {
      "cell_type": "markdown",
      "metadata": {
        "id": "view-in-github",
        "colab_type": "text"
      },
      "source": [
        "<a href=\"https://colab.research.google.com/github/Ayesha-joyo/Assignment-04/blob/main/04_dictionaries.ipynb\" target=\"_parent\"><img src=\"https://colab.research.google.com/assets/colab-badge.svg\" alt=\"Open In Colab\"/></a>"
      ]
    },
    {
      "cell_type": "code",
      "execution_count": 1,
      "metadata": {
        "colab": {
          "base_uri": "https://localhost:8080/"
        },
        "id": "HwWXkO2bR7SY",
        "outputId": "9c30bc91-a4e2-47cf-be49-88c1ed2bcc43"
      },
      "outputs": [
        {
          "output_type": "stream",
          "name": "stdout",
          "text": [
            "Enter a number: 3\n",
            "Enter a number: 7\n",
            "Enter a number: 8\n",
            "Enter a number: 9\n",
            "Enter a number: \n",
            "3 appears 1 times.\n",
            "7 appears 1 times.\n",
            "8 appears 1 times.\n",
            "9 appears 1 times.\n"
          ]
        }
      ],
      "source": [
        "# Create an empty dictionary to store the number counts\n",
        "number_counts = {}\n",
        "\n",
        "# Continuously ask for numbers from the user\n",
        "while True:\n",
        "    # Ask the user for a number\n",
        "    user_input = input(\"Enter a number: \")\n",
        "\n",
        "    # If the user enters an empty input, stop the loop\n",
        "    if user_input == \"\":\n",
        "        break\n",
        "\n",
        "    # Try to convert the input to an integer\n",
        "    try:\n",
        "        number = int(user_input)\n",
        "\n",
        "        # If the number is already in the dictionary, increment its count\n",
        "        if number in number_counts:\n",
        "            number_counts[number] += 1\n",
        "        else:\n",
        "            # Otherwise, add the number to the dictionary with a count of 1\n",
        "            number_counts[number] = 1\n",
        "\n",
        "    except ValueError:\n",
        "        # If the input is not a valid number, print an error message\n",
        "        print(\"Please enter a valid number.\")\n",
        "\n",
        "# Print the count of each number\n",
        "for number, count in number_counts.items():\n",
        "    print(f\"{number} appears {count} times.\")\n",
        "\n"
      ]
    },
    {
      "cell_type": "code",
      "source": [
        "# Initialize an empty dictionary to store the phonebook\n",
        "phonebook = {}\n",
        "\n",
        "# Function to add an entry to the phonebook\n",
        "def add_entry():\n",
        "    name = input(\"Enter the name: \")\n",
        "    phone_number = input(\"Enter the phone number: \")\n",
        "    phonebook[name] = phone_number\n",
        "    print(f\"{name}'s phone number has been added.\")\n",
        "\n",
        "# Function to search for a phone number by name\n",
        "def search_entry():\n",
        "    name = input(\"Enter the name you want to search for: \")\n",
        "    if name in phonebook:\n",
        "        print(f\"{name}'s phone number is {phonebook[name]}.\")\n",
        "    else:\n",
        "        print(f\"{name} is not in the phonebook.\")\n",
        "\n",
        "# Function to update an existing phone number\n",
        "def update_entry():\n",
        "    name = input(\"Enter the name you want to update: \")\n",
        "    if name in phonebook:\n",
        "        new_phone_number = input(f\"Enter the new phone number for {name}: \")\n",
        "        phonebook[name] = new_phone_number\n",
        "        print(f\"{name}'s phone number has been updated.\")\n",
        "    else:\n",
        "        print(f\"{name} is not in the phonebook.\")\n",
        "\n",
        "# Function to delete an entry from the phonebook\n",
        "def delete_entry():\n",
        "    name = input(\"Enter the name you want to delete: \")\n",
        "    if name in phonebook:\n",
        "        del phonebook[name]\n",
        "        print(f\"{name} has been deleted from the phonebook.\")\n",
        "    else:\n",
        "        print(f\"{name} is not in the phonebook.\")\n",
        "\n",
        "# Function to display the main menu and allow user to choose operations\n",
        "def menu():\n",
        "    while True:\n",
        "        print(\"\\nPhonebook Menu:\")\n",
        "        print(\"1. Add a new contact\")\n",
        "        print(\"2. Search for a contact\")\n",
        "        print(\"3. Update a contact\")\n",
        "        print(\"4. Delete a contact\")\n",
        "        print(\"5. Exit\")\n",
        "\n",
        "        choice = input(\"Enter the number of your choice: \")\n",
        "\n",
        "        if choice == '1':\n",
        "            add_entry()\n",
        "        elif choice == '2':\n",
        "            search_entry()\n",
        "        elif choice == '3':\n",
        "            update_entry()\n",
        "        elif choice == '4':\n",
        "            delete_entry()\n",
        "        elif choice == '5':\n",
        "            print(\"Exiting phonebook. Goodbye!\")\n",
        "            break\n",
        "        else:\n",
        "            print(\"Invalid choice, please try again.\")\n",
        "\n",
        "# Run the phonebook program\n",
        "menu()\n"
      ],
      "metadata": {
        "colab": {
          "base_uri": "https://localhost:8080/"
        },
        "id": "BbN3k_GoSWzc",
        "outputId": "0e5e0d4d-a2a8-4a4a-c4a3-e2ad09a022e0"
      },
      "execution_count": 2,
      "outputs": [
        {
          "output_type": "stream",
          "name": "stdout",
          "text": [
            "\n",
            "Phonebook Menu:\n",
            "1. Add a new contact\n",
            "2. Search for a contact\n",
            "3. Update a contact\n",
            "4. Delete a contact\n",
            "5. Exit\n",
            "Enter the number of your choice: 1\n",
            "Enter the name: ayesha\n",
            "Enter the phone number: 03478965123\n",
            "ayesha's phone number has been added.\n",
            "\n",
            "Phonebook Menu:\n",
            "1. Add a new contact\n",
            "2. Search for a contact\n",
            "3. Update a contact\n",
            "4. Delete a contact\n",
            "5. Exit\n",
            "Enter the number of your choice: \n",
            "Invalid choice, please try again.\n",
            "\n",
            "Phonebook Menu:\n",
            "1. Add a new contact\n",
            "2. Search for a contact\n",
            "3. Update a contact\n",
            "4. Delete a contact\n",
            "5. Exit\n",
            "Enter the number of your choice: 5\n",
            "Exiting phonebook. Goodbye!\n"
          ]
        }
      ]
    },
    {
      "cell_type": "code",
      "source": [
        "# Dictionary of fruits and their prices\n",
        "fruit_prices = {\n",
        "    'apple': 1.5,\n",
        "    'durian': 5.0,\n",
        "    'jackfruit': 2.5,\n",
        "    'kiwi': 3.0,\n",
        "    'rambutan': 4.0,\n",
        "    'mango': 2.0\n",
        "}\n",
        "\n",
        "# Initialize total cost\n",
        "total_cost = 0\n",
        "\n",
        "# Loop through the fruits and prompt the user for quantity\n",
        "for fruit, price in fruit_prices.items():\n",
        "    quantity = int(input(f\"How many ({fruit}) do you want?: \"))\n",
        "    total_cost += quantity * price\n",
        "\n",
        "# Print the total cost\n",
        "print(f\"Your total is ${total_cost:.2f}\")\n"
      ],
      "metadata": {
        "colab": {
          "base_uri": "https://localhost:8080/"
        },
        "id": "iWesH8wTSrm2",
        "outputId": "46483b29-0417-4563-f030-e143bf26dcc3"
      },
      "execution_count": 3,
      "outputs": [
        {
          "output_type": "stream",
          "name": "stdout",
          "text": [
            "How many (apple) do you want?: 5\n",
            "How many (durian) do you want?: 1\n",
            "How many (jackfruit) do you want?: 3\n",
            "How many (kiwi) do you want?: 5\n",
            "How many (rambutan) do you want?: 9\n",
            "How many (mango) do you want?: 5\n",
            "Your total is $81.00\n"
          ]
        }
      ]
    },
    {
      "cell_type": "code",
      "source": [
        "import hashlib\n",
        "\n",
        "# Sample stored_logins dictionary where the email is the key and the password hash is the value\n",
        "stored_logins = {\n",
        "    \"user@example.com\": \"5e884898da28047151d0e56f8dc6292773603d0d5d8f91c9d67c409ee8c1e8e6\",  # 'password' hashed\n",
        "}\n",
        "\n",
        "# Function to hash the password using SHA256\n",
        "def hash_password(password):\n",
        "    return hashlib.sha256(password.encode()).hexdigest()\n",
        "\n",
        "# Function to log in by checking the hashed password\n",
        "def login(email, password_to_check):\n",
        "    if email in stored_logins:\n",
        "        # Hash the provided password to check against stored hash\n",
        "        hashed_password = hash_password(password_to_check)\n",
        "        # Compare the hashed password with the stored one\n",
        "        if stored_logins[email] == hashed_password:\n",
        "            return True\n",
        "        else:\n",
        "            return False\n",
        "    else:\n",
        "        return False\n",
        "\n",
        "# Example Usage:\n",
        "email = input(\"Enter your email: \")\n",
        "password = input(\"Enter your password: \")\n",
        "\n",
        "# Try to log in\n",
        "if login(email, password):\n",
        "    print(\"Login successful!\")\n",
        "else:\n",
        "    print(\"Login failed!\")\n"
      ],
      "metadata": {
        "colab": {
          "base_uri": "https://localhost:8080/"
        },
        "id": "h_bGQN1cS75T",
        "outputId": "995a42a0-7efc-466d-96ac-3e8e99e214f0"
      },
      "execution_count": 4,
      "outputs": [
        {
          "output_type": "stream",
          "name": "stdout",
          "text": [
            "Enter your email: umairjoyo88@gmail.com\n",
            "Enter your password: jhjhhjh\n",
            "Login failed!\n"
          ]
        }
      ]
    }
  ]
}