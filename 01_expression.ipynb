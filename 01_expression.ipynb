{
  "nbformat": 4,
  "nbformat_minor": 0,
  "metadata": {
    "colab": {
      "provenance": [],
      "authorship_tag": "ABX9TyPNb5d39VH5RsWxs3OC+Qij",
      "include_colab_link": true
    },
    "kernelspec": {
      "name": "python3",
      "display_name": "Python 3"
    },
    "language_info": {
      "name": "python"
    }
  },
  "cells": [
    {
      "cell_type": "markdown",
      "metadata": {
        "id": "view-in-github",
        "colab_type": "text"
      },
      "source": [
        "<a href=\"https://colab.research.google.com/github/Ayesha-joyo/Assignment-04/blob/main/01_expression.ipynb\" target=\"_parent\"><img src=\"https://colab.research.google.com/assets/colab-badge.svg\" alt=\"Open In Colab\"/></a>"
      ]
    },
    {
      "cell_type": "code",
      "execution_count": 1,
      "metadata": {
        "colab": {
          "base_uri": "https://localhost:8080/"
        },
        "id": "mI_hQvTUAHYp",
        "outputId": "9dcc6560-f72f-435d-ce2b-c00ceccb6fc3"
      },
      "outputs": [
        {
          "output_type": "stream",
          "name": "stdout",
          "text": [
            "Roll 1: Die 1 = 2, Die 2 = 5\n",
            "Roll 2: Die 1 = 3, Die 2 = 6\n",
            "Roll 3: Die 1 = 4, Die 2 = 3\n"
          ]
        }
      ],
      "source": [
        "import random\n",
        "\n",
        "# Function to simulate rolling two dice\n",
        "def roll_dice():\n",
        "    die1 = random.randint(1, 6)  # First die roll (1-6)\n",
        "    die2 = random.randint(1, 6)  # Second die roll (1-6)\n",
        "    return die1, die2\n",
        "\n",
        "# Main function to simulate rolling two dice three times\n",
        "def main():\n",
        "    for roll_num in range(1, 4):  # Three rolls\n",
        "        die1, die2 = roll_dice()   # Roll the dice\n",
        "        print(f\"Roll {roll_num}: Die 1 = {die1}, Die 2 = {die2}\")\n",
        "\n",
        "# Run the main function\n",
        "main()"
      ]
    },
    {
      "cell_type": "code",
      "source": [
        "# Function to convert feet to inches\n",
        "def convert_feet_to_inches(feet):\n",
        "    inches = feet * 12  # 1 foot = 12 inches\n",
        "    return inches\n",
        "\n",
        "# Main function to get user input and display the result\n",
        "def main():\n",
        "    try:\n",
        "        # Ask the user for the number of feet\n",
        "        feet = float(input(\"Enter the number of feet: \"))\n",
        "\n",
        "        # Convert feet to inches\n",
        "        inches = convert_feet_to_inches(feet)\n",
        "\n",
        "        # Output the result\n",
        "        print(f\"{feet} feet is equal to {inches} inches.\")\n",
        "\n",
        "    except ValueError:\n",
        "        # Handle invalid input\n",
        "        print(\"Please enter a valid number for the feet.\")\n",
        "\n",
        "# Run the program\n",
        "main()"
      ],
      "metadata": {
        "colab": {
          "base_uri": "https://localhost:8080/"
        },
        "id": "Ni6t3d0VCD-v",
        "outputId": "0c57e31f-975a-49d4-ec07-dfffc478491f"
      },
      "execution_count": 5,
      "outputs": [
        {
          "output_type": "stream",
          "name": "stdout",
          "text": [
            "Enter the number of feet: 5\n",
            "5.0 feet is equal to 60.0 inches.\n"
          ]
        }
      ]
    },
    {
      "cell_type": "code",
      "source": [
        "import math\n",
        "\n",
        "# Function to calculate the hypotenuse using the Pythagorean theorem\n",
        "def calculate_hypotenuse(ab, ac):\n",
        "    # The square of the hypotenuse is the sum of the squares of the other two sides\n",
        "    return math.sqrt(ab**2 + ac**2)\n",
        "\n",
        "# Main function to get user input and calculate the hypotenuse\n",
        "def main():\n",
        "    try:\n",
        "        # Ask the user for the lengths of the two perpendicular sides\n",
        "        ab = float(input(\"Enter the length of AB: \"))\n",
        "        ac = float(input(\"Enter the length of AC: \"))\n",
        "\n",
        "        # Calculate the length of the hypotenuse\n",
        "        bc = calculate_hypotenuse(ab, ac)\n",
        "\n",
        "        # Output the result\n",
        "        print(f\"The length of BC (the hypotenuse) is: {bc}\")\n",
        "\n",
        "    except ValueError:\n",
        "        # Handle invalid input (if the user enters something that is not a number)\n",
        "        print(\"Please enter valid numerical values for the lengths.\")\n",
        "\n",
        "# Run the main function\n",
        "main()\n"
      ],
      "metadata": {
        "colab": {
          "base_uri": "https://localhost:8080/"
        },
        "id": "RbHrRx9RDLKm",
        "outputId": "a4ba647d-e846-4884-c96b-98200bcc0668"
      },
      "execution_count": 6,
      "outputs": [
        {
          "output_type": "stream",
          "name": "stdout",
          "text": [
            "Enter the length of AB: 3\n",
            "Enter the length of AC: 5\n",
            "The length of BC (the hypotenuse) is: 5.830951894845301\n"
          ]
        }
      ]
    },
    {
      "cell_type": "code",
      "source": [
        "# Function to perform division and find remainder\n",
        "def divide_and_remainder(dividend, divisor):\n",
        "    quotient = dividend // divisor  # Integer division\n",
        "    remainder = dividend % divisor  # Modulo operation to find remainder\n",
        "    return quotient, remainder\n",
        "\n",
        "# Main function to get user input and display results\n",
        "def main():\n",
        "    try:\n",
        "        # Ask the user for the first number (dividend)\n",
        "        dividend = int(input(\"Please enter an integer to be divided: \"))\n",
        "\n",
        "        # Ask the user for the second number (divisor)\n",
        "        divisor = int(input(\"Please enter an integer to divide by: \"))\n",
        "\n",
        "        # Ensure divisor is not zero\n",
        "        if divisor == 0:\n",
        "            print(\"Error: Cannot divide by zero.\")\n",
        "        else:\n",
        "            # Get the quotient and remainder\n",
        "            quotient, remainder = divide_and_remainder(dividend, divisor)\n",
        "\n",
        "            # Print the results\n",
        "            print(f\"The result of this division is {quotient} with a remainder of {remainder}\")\n",
        "\n",
        "    except ValueError:\n",
        "        # Handle non-integer input\n",
        "        print(\"Please enter valid integers.\")\n",
        "\n",
        "# Run the program\n",
        "main()\n"
      ],
      "metadata": {
        "colab": {
          "base_uri": "https://localhost:8080/"
        },
        "id": "LZwCnANqDvDL",
        "outputId": "db57bc53-930d-491c-88b6-91159b9849d6"
      },
      "execution_count": 7,
      "outputs": [
        {
          "output_type": "stream",
          "name": "stdout",
          "text": [
            "Please enter an integer to be divided: 5\n",
            "Please enter an integer to divide by: 8\n",
            "The result of this division is 0 with a remainder of 5\n"
          ]
        }
      ]
    },
    {
      "cell_type": "code",
      "source": [
        "import random\n",
        "\n",
        "# Function to simulate rolling two dice\n",
        "def roll_dice():\n",
        "    die1 = random.randint(1, 6)  # First die roll (1-6)\n",
        "    die2 = random.randint(1, 6)  # Second die roll (1-6)\n",
        "    return die1, die2\n",
        "\n",
        "# Main function to simulate the dice rolls and print the results\n",
        "def main():\n",
        "    # Roll the dice\n",
        "    die1, die2 = roll_dice()\n",
        "\n",
        "    # Calculate the total\n",
        "    total = die1 + die2\n",
        "\n",
        "    # Print the results\n",
        "    print(f\"Die 1 rolled: {die1}\")\n",
        "    print(f\"Die 2 rolled: {die2}\")\n",
        "    print(f\"Total: {total}\")\n",
        "\n",
        "# Run the main function\n",
        "main()\n"
      ],
      "metadata": {
        "colab": {
          "base_uri": "https://localhost:8080/"
        },
        "id": "oxSwIKZSEAa4",
        "outputId": "1fe051cd-d701-46d0-eee6-9f13f5231b0d"
      },
      "execution_count": 8,
      "outputs": [
        {
          "output_type": "stream",
          "name": "stdout",
          "text": [
            "Die 1 rolled: 5\n",
            "Die 2 rolled: 5\n",
            "Total: 10\n"
          ]
        }
      ]
    },
    {
      "cell_type": "code",
      "source": [
        "# Constants for the number of days, hours, minutes, and seconds in a year\n",
        "DAYS_IN_YEAR = 365\n",
        "HOURS_IN_DAY = 24\n",
        "MINUTES_IN_HOUR = 60\n",
        "SECONDS_IN_MINUTE = 60\n",
        "\n",
        "# Calculate the total number of seconds in a year\n",
        "seconds_in_year = DAYS_IN_YEAR * HOURS_IN_DAY * MINUTES_IN_HOUR * SECONDS_IN_MINUTE\n",
        "\n",
        "# Print the result\n",
        "print(f\"There are {seconds_in_year} seconds in a year!\")\n"
      ],
      "metadata": {
        "colab": {
          "base_uri": "https://localhost:8080/"
        },
        "id": "UaHleiaPGq4h",
        "outputId": "a81aa62e-68bb-445e-bcb9-83a2414fae58"
      },
      "execution_count": 9,
      "outputs": [
        {
          "output_type": "stream",
          "name": "stdout",
          "text": [
            "There are 31536000 seconds in a year!\n"
          ]
        }
      ]
    },
    {
      "cell_type": "code",
      "source": [
        "# Prompt the user for input\n",
        "adjective = input(\"Please type an adjective and press enter. \")\n",
        "noun = input(\"Please type a noun and press enter. \")\n",
        "verb = input(\"Please type a verb and press enter. \")\n",
        "\n",
        "# Construct and print the fun sentence\n",
        "print(f\"Code in Place is fun. I learned to program and used Python to make my {adjective} {noun} {verb}!\")\n"
      ],
      "metadata": {
        "colab": {
          "base_uri": "https://localhost:8080/"
        },
        "id": "tJgCsm2iIWOY",
        "outputId": "33f5e93a-c2e3-4415-bdc5-ece1311eae5e"
      },
      "execution_count": 10,
      "outputs": [
        {
          "output_type": "stream",
          "name": "stdout",
          "text": [
            "Please type an adjective and press enter. sad\n",
            "Please type a noun and press enter. ayesha\n",
            "Please type a verb and press enter. eating\n",
            "Code in Place is fun. I learned to program and used Python to make my sad ayesha eating!\n"
          ]
        }
      ]
    },
    {
      "cell_type": "code",
      "source": [
        "def calculate_energy(mass, speed_of_light):\n",
        "    \"\"\"Calculate energy based on Einstein's mass-energy equivalence formula.\"\"\"\n",
        "    return mass * speed_of_light**2\n",
        "\n",
        "def get_mass_input():\n",
        "    \"\"\"Prompt the user to input the mass in kilograms.\"\"\"\n",
        "    while True:\n",
        "        try:\n",
        "            mass = float(input(\"Enter kilos of mass: \"))\n",
        "            if mass <= 0:\n",
        "                print(\"Please enter a positive number for mass.\")\n",
        "                continue\n",
        "            return mass\n",
        "        except ValueError:\n",
        "            print(\"Invalid input! Please enter a valid number for mass.\")\n",
        "\n",
        "def display_energy_result(mass, energy):\n",
        "    \"\"\"Display the energy result in a formatted way.\"\"\"\n",
        "    print(\"\\n--- Energy Calculation ---\")\n",
        "    print(f\"e = m * C^2...\\n\")\n",
        "    print(f\"m = {mass} kg\")\n",
        "    print(f\"C = 299792458 m/s\")\n",
        "    print(f\"{energy} joules of energy!\")\n",
        "\n",
        "def main():\n",
        "    speed_of_light = 299792458  # Speed of light in m/s\n",
        "\n",
        "    while True:\n",
        "        mass = get_mass_input()\n",
        "        energy = calculate_energy(mass, speed_of_light)\n",
        "        display_energy_result(mass, energy)\n",
        "\n",
        "        # Ask if the user wants to continue\n",
        "        user_choice = input(\"\\nWould you like to calculate again? (y/n): \").strip().lower()\n",
        "        if user_choice != 'y':\n",
        "            print(\"Goodbye!\")\n",
        "            break\n",
        "\n",
        "# Run the program\n",
        "main()\n"
      ],
      "metadata": {
        "colab": {
          "base_uri": "https://localhost:8080/"
        },
        "id": "phAp069uI113",
        "outputId": "c7990e97-790f-461f-cb99-c0aaff3d2d6d"
      },
      "execution_count": 11,
      "outputs": [
        {
          "output_type": "stream",
          "name": "stdout",
          "text": [
            "Enter kilos of mass: 3\n",
            "\n",
            "--- Energy Calculation ---\n",
            "e = m * C^2...\n",
            "\n",
            "m = 3.0 kg\n",
            "C = 299792458 m/s\n",
            "2.6962655362104528e+17 joules of energy!\n",
            "\n",
            "Would you like to calculate again? (y/n): n\n",
            "Goodbye!\n"
          ]
        }
      ]
    }
  ]
}