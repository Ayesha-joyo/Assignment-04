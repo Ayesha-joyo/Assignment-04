{
  "nbformat": 4,
  "nbformat_minor": 0,
  "metadata": {
    "colab": {
      "provenance": [],
      "authorship_tag": "ABX9TyObp5kJ5j2gH+bhmS3rCdt6",
      "include_colab_link": true
    },
    "kernelspec": {
      "name": "python3",
      "display_name": "Python 3"
    },
    "language_info": {
      "name": "python"
    }
  },
  "cells": [
    {
      "cell_type": "markdown",
      "metadata": {
        "id": "view-in-github",
        "colab_type": "text"
      },
      "source": [
        "<a href=\"https://colab.research.google.com/github/Ayesha-joyo/Assignment-04/blob/main/05_loops_control_flow.ipynb\" target=\"_parent\"><img src=\"https://colab.research.google.com/assets/colab-badge.svg\" alt=\"Open In Colab\"/></a>"
      ]
    },
    {
      "cell_type": "code",
      "execution_count": 3,
      "metadata": {
        "colab": {
          "base_uri": "https://localhost:8080/"
        },
        "id": "91kTIKZwTeDo",
        "outputId": "9933f04c-7c26-4ae0-b90f-24ad00f51fd3"
      },
      "outputs": [
        {
          "output_type": "stream",
          "name": "stdout",
          "text": [
            "I am thinking of a number between 0 and 99... Try to guess it!\n",
            "Type 'exit' at any time to quit the game.\n",
            "Enter a guess: 56\n",
            "Your guess is too high\n",
            "Enter a guess: 89\n",
            "Your guess is too high\n",
            "Enter a guess: exit\n",
            "Goodbye! Thanks for playing!\n"
          ]
        }
      ],
      "source": [
        "import random\n",
        "\n",
        "def guess_my_number():\n",
        "    # Generate a random number between 0 and 99\n",
        "    number_to_guess = random.randint(0, 99)\n",
        "\n",
        "    # Variable to track the number of guesses\n",
        "    guessed = False\n",
        "\n",
        "    print(\"I am thinking of a number between 0 and 99... Try to guess it!\")\n",
        "    print(\"Type 'exit' at any time to quit the game.\")\n",
        "\n",
        "    while not guessed:\n",
        "        # Ask for user input\n",
        "        user_guess = input(\"Enter a guess: \")\n",
        "\n",
        "        # Check if user wants to exit\n",
        "        if user_guess.lower() == 'exit':\n",
        "            print(\"Goodbye! Thanks for playing!\")\n",
        "            break\n",
        "\n",
        "        try:\n",
        "            # Convert the input to an integer\n",
        "            user_guess = int(user_guess)\n",
        "\n",
        "            # Compare the guess with the number\n",
        "            if user_guess < number_to_guess:\n",
        "                print(\"Your guess is too low\")\n",
        "            elif user_guess > number_to_guess:\n",
        "                print(\"Your guess is too high\")\n",
        "            else:\n",
        "                print(f\"Congrats! The number was: {number_to_guess}\")\n",
        "                guessed = True\n",
        "        except ValueError:\n",
        "            print(\"Please enter a valid number.\")\n",
        "\n",
        "# Run the game\n",
        "guess_my_number()\n"
      ]
    },
    {
      "cell_type": "code",
      "source": [
        "# Constant to define the maximum value for the Fibonacci sequence\n",
        "MAX_VALUE = 10000\n",
        "\n",
        "def fibonacci_sequence():\n",
        "    # Starting values of the Fibonacci sequence\n",
        "    fib_0 = 0\n",
        "    fib_1 = 1\n",
        "\n",
        "    # Print the first two terms\n",
        "    print(fib_0, fib_1, end=\" \")\n",
        "\n",
        "    # Generate and print the rest of the Fibonacci sequence as long as the value is less than MAX_VALUE\n",
        "    while True:\n",
        "        next_term = fib_0 + fib_1\n",
        "        if next_term >= MAX_VALUE:\n",
        "            break\n",
        "        print(next_term, end=\" \")\n",
        "        fib_0 = fib_1\n",
        "        fib_1 = next_term\n",
        "\n",
        "# Call the function to print the Fibonacci sequence\n",
        "fibonacci_sequence()\n"
      ],
      "metadata": {
        "colab": {
          "base_uri": "https://localhost:8080/"
        },
        "id": "JyM36n8GUqo2",
        "outputId": "a0736f26-40ca-40e5-e0b4-908446bc458a"
      },
      "execution_count": 4,
      "outputs": [
        {
          "output_type": "stream",
          "name": "stdout",
          "text": [
            "0 1 1 2 3 5 8 13 21 34 55 89 144 233 377 610 987 1597 2584 4181 6765 "
          ]
        }
      ]
    },
    {
      "cell_type": "code",
      "source": [
        "# Loop through the first 20 even numbers and print them\n",
        "for i in range(20):\n",
        "    print(i * 2, end=\" \")\n"
      ],
      "metadata": {
        "colab": {
          "base_uri": "https://localhost:8080/"
        },
        "id": "RgEyIu2KUyLJ",
        "outputId": "7881261a-2241-48cf-ee5c-b861a48c2ee5"
      },
      "execution_count": 5,
      "outputs": [
        {
          "output_type": "stream",
          "name": "stdout",
          "text": [
            "0 2 4 6 8 10 12 14 16 18 20 22 24 26 28 30 32 34 36 38 "
          ]
        }
      ]
    },
    {
      "cell_type": "code",
      "source": [
        "# The affirmation we want the user to type\n",
        "affirmation = \"I am capable of doing anything I put my mind to.\"\n",
        "\n",
        "def ask_affirmation():\n",
        "    while True:\n",
        "        # Prompt the user to type the affirmation or type 'exit' to quit\n",
        "        user_input = input(\"Please type the following affirmation (or type 'exit' to quit): \")\n",
        "\n",
        "        # Check if the user wants to exit\n",
        "        if user_input.lower() == 'exit':\n",
        "            print(\"Goodbye! Take care!\")\n",
        "            break  # Exit the loop if the user types 'exit'\n",
        "\n",
        "        # Check if the input matches the affirmation\n",
        "        if user_input == affirmation:\n",
        "            print(\"That's right! :)\")\n",
        "            break  # Exit the loop once the user types it correctly\n",
        "        else:\n",
        "            print(\"Hmmm That was not the affirmation. Please try again.\")\n",
        "\n",
        "# Call the function to start the program\n",
        "ask_affirmation()\n"
      ],
      "metadata": {
        "colab": {
          "base_uri": "https://localhost:8080/"
        },
        "id": "aNAN-qiaU_p-",
        "outputId": "d30b882c-8247-400f-c8be-8da5ee98d9a5"
      },
      "execution_count": 7,
      "outputs": [
        {
          "output_type": "stream",
          "name": "stdout",
          "text": [
            "Please type the following affirmation (or type 'exit' to quit): I am capable of doing anything I put my mind to\n",
            "Hmmm That was not the affirmation. Please try again.\n",
            "Please type the following affirmation (or type 'exit' to quit): exit\n",
            "Goodbye! Take care!\n"
          ]
        }
      ]
    },
    {
      "cell_type": "code",
      "source": [
        "# Countdown from 10 to 1\n",
        "for i in range(10, 0, -1):\n",
        "    print(i, end=\" \")\n",
        "\n",
        "# Output 'Liftoff!' after the countdown\n",
        "print(\"Liftoff!\")\n",
        "\n"
      ],
      "metadata": {
        "colab": {
          "base_uri": "https://localhost:8080/"
        },
        "id": "lq28Qwp6V5uY",
        "outputId": "89c929fe-e397-4da0-a030-e0533fb9487c"
      },
      "execution_count": 8,
      "outputs": [
        {
          "output_type": "stream",
          "name": "stdout",
          "text": [
            "10 9 8 7 6 5 4 3 2 1 Liftoff!\n"
          ]
        }
      ]
    },
    {
      "cell_type": "code",
      "source": [
        "# Prompt the user to enter a number\n",
        "curr_value = int(input(\"Enter a number: \"))\n",
        "\n",
        "# While the current value is less than 100, double it and print the result\n",
        "while curr_value < 100:\n",
        "    curr_value = curr_value * 2\n",
        "    print(curr_value, end=\" \")\n",
        "\n"
      ],
      "metadata": {
        "colab": {
          "base_uri": "https://localhost:8080/"
        },
        "id": "ycCaUIMaWD3l",
        "outputId": "bc92526f-36f8-4c19-c808-11f20b6fe06b"
      },
      "execution_count": 9,
      "outputs": [
        {
          "output_type": "stream",
          "name": "stdout",
          "text": [
            "Enter a number: 56\n",
            "112 "
          ]
        }
      ]
    }
  ]
}