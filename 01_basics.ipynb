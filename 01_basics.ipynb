{
  "nbformat": 4,
  "nbformat_minor": 0,
  "metadata": {
    "colab": {
      "provenance": [],
      "authorship_tag": "ABX9TyNh6nidsGEczRpX/Zpx1rev",
      "include_colab_link": true
    },
    "kernelspec": {
      "name": "python3",
      "display_name": "Python 3"
    },
    "language_info": {
      "name": "python"
    }
  },
  "cells": [
    {
      "cell_type": "markdown",
      "metadata": {
        "id": "view-in-github",
        "colab_type": "text"
      },
      "source": [
        "<a href=\"https://colab.research.google.com/github/Ayesha-joyo/Assignment-04/blob/main/01_basics.ipynb\" target=\"_parent\"><img src=\"https://colab.research.google.com/assets/colab-badge.svg\" alt=\"Open In Colab\"/></a>"
      ]
    },
    {
      "cell_type": "code",
      "execution_count": 3,
      "metadata": {
        "colab": {
          "base_uri": "https://localhost:8080/"
        },
        "id": "FA-I-GoxWgKl",
        "outputId": "366946df-a50f-45cb-c8c4-bbf4b7d58dc4"
      },
      "outputs": [
        {
          "output_type": "stream",
          "name": "stdout",
          "text": [
            "What do you want? Joke\n",
            "Here is a joke for you! Panaversity GPT - Sophia is heading out to the grocery store. A programmer tells her: get a liter of milk, and if they have eggs, get 12. Sophia returns with 13 liters of milk. The programmer asks why and Sophia replies: 'because they had eggs'\n"
          ]
        }
      ],
      "source": [
        "# Constants\n",
        "PROMPT = \"What do you want? \"\n",
        "JOKE = \"Here is a joke for you! Panaversity GPT - Sophia is heading out to the grocery store. A programmer tells her: get a liter of milk, and if they have eggs, get 12. Sophia returns with 13 liters of milk. The programmer asks why and Sophia replies: 'because they had eggs'\"\n",
        "SORRY = \"Sorry I only tell jokes\"\n",
        "\n",
        "# Ask the user for input\n",
        "user_input = input(PROMPT)\n",
        "\n",
        "# Respond based on the user's input\n",
        "if user_input == \"Joke\":\n",
        "    print(JOKE)\n",
        "else:\n",
        "    print(SORRY)\n"
      ]
    },
    {
      "cell_type": "code",
      "source": [
        "# Prompt the user to enter a number\n",
        "curr_value = int(input(\"Enter a number: \"))\n",
        "\n",
        "# While the current value is less than 100, double it and print the result\n",
        "while curr_value < 100:\n",
        "    curr_value = curr_value * 2\n",
        "    print(curr_value, end=\" \")\n"
      ],
      "metadata": {
        "colab": {
          "base_uri": "https://localhost:8080/"
        },
        "id": "TKLZmsOPXFBx",
        "outputId": "02348a06-008e-401c-f8c7-77b93901b7f6"
      },
      "execution_count": 4,
      "outputs": [
        {
          "output_type": "stream",
          "name": "stdout",
          "text": [
            "Enter a number: 45\n",
            "90 180 "
          ]
        }
      ]
    },
    {
      "cell_type": "code",
      "source": [
        "# Countdown from 10 to 1\n",
        "for i in range(10, 0, -1):\n",
        "    print(i, end=\" \")\n",
        "\n",
        "# Print \"Liftoff!\" after the countdown\n",
        "print(\"Liftoff!\")\n"
      ],
      "metadata": {
        "colab": {
          "base_uri": "https://localhost:8080/"
        },
        "id": "Qn976UjOXTje",
        "outputId": "76a24001-8e60-430f-ddba-b819d12bef3c"
      },
      "execution_count": 5,
      "outputs": [
        {
          "output_type": "stream",
          "name": "stdout",
          "text": [
            "10 9 8 7 6 5 4 3 2 1 Liftoff!\n"
          ]
        }
      ]
    },
    {
      "cell_type": "code",
      "source": [
        "import random\n",
        "\n",
        "# Generate a random number between 0 and 99\n",
        "secret_number = random.randint(0, 99)\n",
        "\n",
        "# Introduce the game\n",
        "print(\"I am thinking of a number between 0 and 99...\")\n",
        "print(\"Type 'exit' at any time to quit the game.\")\n",
        "\n",
        "# Loop until the user guesses the correct number or chooses to exit\n",
        "while True:\n",
        "    # Ask the user for their guess\n",
        "    user_input = input(\"Enter a guess (or type 'exit' to quit): \")\n",
        "\n",
        "    # Check if the user wants to exit\n",
        "    if user_input.lower() == 'exit':\n",
        "        print(\"Goodbye! Thanks for playing.\")\n",
        "        break  # Exit the loop\n",
        "\n",
        "    # Ensure the input is a valid number\n",
        "    if user_input.isdigit():\n",
        "        guess = int(user_input)\n",
        "\n",
        "        # Check if the guess is too high, too low, or correct\n",
        "        if guess > secret_number:\n",
        "            print(\"Your guess is too high\")\n",
        "        elif guess < secret_number:\n",
        "            print(\"Your guess is too low\")\n",
        "        else:\n",
        "            print(f\"Congrats! The number was: {secret_number}\")\n",
        "            break  # Exit the loop when the correct number is guessed\n",
        "    else:\n",
        "        print(\"Please enter a valid number or type 'exit' to quit.\")\n"
      ],
      "metadata": {
        "colab": {
          "base_uri": "https://localhost:8080/"
        },
        "id": "K8C8vB8QXgDs",
        "outputId": "e8a0467b-d261-4c2b-cacb-30a27ab23a49"
      },
      "execution_count": 8,
      "outputs": [
        {
          "output_type": "stream",
          "name": "stdout",
          "text": [
            "I am thinking of a number between 0 and 99...\n",
            "Type 'exit' at any time to quit the game.\n",
            "Enter a guess (or type 'exit' to quit): 76\n",
            "Your guess is too high\n",
            "Enter a guess (or type 'exit' to quit): 34\n",
            "Your guess is too low\n",
            "Enter a guess (or type 'exit' to quit): exit\n",
            "Goodbye! Thanks for playing.\n"
          ]
        }
      ]
    },
    {
      "cell_type": "code",
      "source": [
        "import random\n",
        "\n",
        "# Generate and print 10 random numbers between 1 and 100\n",
        "for _ in range(10):\n",
        "    print(random.randint(1, 100), end=\" \")\n"
      ],
      "metadata": {
        "colab": {
          "base_uri": "https://localhost:8080/"
        },
        "id": "Mib-zS4lX7kZ",
        "outputId": "09c10fdc-fd79-47ff-9939-48201ededad6"
      },
      "execution_count": 9,
      "outputs": [
        {
          "output_type": "stream",
          "name": "stdout",
          "text": [
            "94 73 36 63 91 43 13 48 76 67 "
          ]
        }
      ]
    }
  ]
}